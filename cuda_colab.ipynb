{
  "cells": [
    {
      "cell_type": "markdown",
      "metadata": {
        "id": "view-in-github",
        "colab_type": "text"
      },
      "source": [
        "<a href=\"https://colab.research.google.com/github/pierzeno/lecture-git/blob/main/cuda_colab.ipynb\" target=\"_parent\"><img src=\"https://colab.research.google.com/assets/colab-badge.svg\" alt=\"Open In Colab\"/></a>"
      ]
    },
    {
      "cell_type": "markdown",
      "metadata": {
        "id": "u44dEsPfQ2IE"
      },
      "source": [
        "Steps to profile your application:\n",
        "*   Compile it with nvcc\n",
        "*   Profile it with nsys profile\n",
        "*   Open the output with Nsight System\n",
        "\n",
        "Install Nsight System: https://developer.nvidia.com/nsight-systems\n"
      ]
    },
    {
      "cell_type": "code",
      "execution_count": 1,
      "metadata": {
        "colab": {
          "base_uri": "https://localhost:8080/"
        },
        "id": "2MirQybATUKy",
        "outputId": "4421bd6a-d9ce-4042-f2ef-c038166710aa"
      },
      "outputs": [
        {
          "output_type": "stream",
          "name": "stdout",
          "text": [
            "++ mktemp -d\n",
            "+ cd /tmp/tmp.QEUxXbUFad\n",
            "+ wget https://developer.download.nvidia.com/compute/cuda/12.1.0/local_installers/cuda_12.1.0_530.30.02_linux.run\n",
            "--2024-12-02 18:47:19--  https://developer.download.nvidia.com/compute/cuda/12.1.0/local_installers/cuda_12.1.0_530.30.02_linux.run\n",
            "Resolving developer.download.nvidia.com (developer.download.nvidia.com)... 152.195.19.142\n",
            "Connecting to developer.download.nvidia.com (developer.download.nvidia.com)|152.195.19.142|:443... connected.\n",
            "HTTP request sent, awaiting response... 200 OK\n",
            "Length: 4245586997 (4.0G) [application/octet-stream]\n",
            "Saving to: ‘cuda_12.1.0_530.30.02_linux.run’\n",
            "\n",
            "cuda_12.1.0_530.30. 100%[===================>]   3.95G   144MB/s    in 39s     \n",
            "\n",
            "2024-12-02 18:47:59 (103 MB/s) - ‘cuda_12.1.0_530.30.02_linux.run’ saved [4245586997/4245586997]\n",
            "\n",
            "+ sudo sh cuda_12.1.0_530.30.02_linux.run --silent --toolkit\n",
            "+ rm cuda_12.1.0_530.30.02_linux.run\n"
          ]
        }
      ],
      "source": [
        "# Download and install CUDA 12.1\n",
        "! set -x \\\n",
        "&& cd $(mktemp -d) \\\n",
        "&& wget https://developer.download.nvidia.com/compute/cuda/12.1.0/local_installers/cuda_12.1.0_530.30.02_linux.run \\\n",
        "&& sudo sh cuda_12.1.0_530.30.02_linux.run --silent --toolkit \\\n",
        "&& rm cuda_12.1.0_530.30.02_linux.run"
      ]
    },
    {
      "cell_type": "code",
      "execution_count": 2,
      "metadata": {
        "id": "NcV9CurKTXI7"
      },
      "outputs": [],
      "source": [
        "import os\n",
        "\n",
        "# Add CUDA installation to PATH\n",
        "os.environ['PATH'] = os.environ['PATH'] + ':/usr/local/cuda/bin/'"
      ]
    },
    {
      "cell_type": "code",
      "execution_count": 3,
      "metadata": {
        "id": "i68SAUyqaf0J",
        "outputId": "8a86117d-5e48-484d-b74a-d0f365c009b9",
        "colab": {
          "base_uri": "https://localhost:8080/"
        }
      },
      "outputs": [
        {
          "output_type": "stream",
          "name": "stdout",
          "text": [
            "\u001b[01m\u001b[Kcc1plus:\u001b[m\u001b[K \u001b[01;31m\u001b[Kfatal error: \u001b[m\u001b[Kadd.cu: No such file or directory\n",
            "compilation terminated.\n"
          ]
        }
      ],
      "source": [
        "# Compile your program\n",
        "!nvcc -o add add.cu"
      ]
    },
    {
      "cell_type": "code",
      "execution_count": null,
      "metadata": {
        "colab": {
          "base_uri": "https://localhost:8080/"
        },
        "id": "iTz5ihcF6t6z",
        "outputId": "f6c2b6dc-7c0b-4ba0-a3f5-a9598f2cc855"
      },
      "outputs": [
        {
          "name": "stdout",
          "output_type": "stream",
          "text": [
            "bin2c\t\t   cuda-gdb\t   cuobjdump  nvcc\t\t   nvlink\t     nvprune\n",
            "compute-sanitizer  cuda-gdbserver  fatbinary  __nvcc_device_query  nv-nsight-cu      ptxas\n",
            "crt\t\t   cuda-memcheck   ncu\t      nvcc.profile\t   nv-nsight-cu-cli\n",
            "cudafe++\t   cu++filt\t   ncu-ui     nvdisasm\t\t   nvprof\n"
          ]
        }
      ],
      "source": [
        "# Profile your program obtaining the output to pass to NSight System\n",
        "\n",
        "!nsys profile add"
      ]
    }
  ],
  "metadata": {
    "accelerator": "GPU",
    "colab": {
      "provenance": [],
      "gpuType": "T4",
      "include_colab_link": true
    },
    "kernelspec": {
      "display_name": "Python 3",
      "name": "python3"
    },
    "language_info": {
      "name": "python"
    }
  },
  "nbformat": 4,
  "nbformat_minor": 0
}